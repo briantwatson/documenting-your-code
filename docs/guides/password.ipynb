{
 "cells": [
  {
   "cell_type": "markdown",
   "metadata": {},
   "source": [
    "# Guide to `password.py` module"
   ]
  },
  {
   "cell_type": "markdown",
   "metadata": {},
   "source": [
    "First, import the password module from the randomly package."
   ]
  },
  {
   "cell_type": "code",
   "execution_count": 14,
   "metadata": {},
   "outputs": [],
   "source": [
    "from randomly import password"
   ]
  },
  {
   "cell_type": "markdown",
   "metadata": {},
   "source": [
    "Next, generate a password"
   ]
  },
  {
   "cell_type": "code",
   "execution_count": 15,
   "metadata": {},
   "outputs": [
    {
     "name": "stdout",
     "output_type": "stream",
     "text": [
      "$_Y,g0Uf\n"
     ]
    }
   ],
   "source": [
    "password = password.generate_password(8, \"&*()%^*&\", \"a\")\n",
    "print(password)"
   ]
  }
 ],
 "metadata": {
  "interpreter": {
   "hash": "ff9449caa476df951dc87dedea43176e50921d4cce86bd394e042c28cd62e5a3"
  },
  "kernelspec": {
   "display_name": "Python 3.9.11 ('documenting-your-code-JyeI7GdE')",
   "language": "python",
   "name": "python3"
  },
  "language_info": {
   "codemirror_mode": {
    "name": "ipython",
    "version": 3
   },
   "file_extension": ".py",
   "mimetype": "text/x-python",
   "name": "python",
   "nbconvert_exporter": "python",
   "pygments_lexer": "ipython3",
   "version": "3.9.11"
  },
  "orig_nbformat": 4
 },
 "nbformat": 4,
 "nbformat_minor": 2
}
